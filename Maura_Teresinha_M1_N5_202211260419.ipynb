{
  "nbformat": 4,
  "nbformat_minor": 0,
  "metadata": {
    "colab": {
      "provenance": []
    },
    "kernelspec": {
      "name": "python3",
      "display_name": "Python 3"
    },
    "language_info": {
      "name": "python"
    }
  },
  "cells": [
    {
      "cell_type": "markdown",
      "source": [
        "![image.png](data:image/png;base64,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)\n",
        "\n",
        "\n",
        "**Universidade Estácio - Campus Santa Felicidade - Curitiba - PR**\n",
        "\n",
        "Nome do Curso: **Desenvolvimento Full Stack**\n",
        "\n",
        "Nome da Disciplina: **Nível 5: Colocando Tudo em Ordem e Guardando**\n",
        "\n",
        "Professor: **Robson Lorbieski**\n",
        "\n",
        "Número da **Turma: 22.3**\n",
        "\n",
        "Semestre letivo: **1º Semestre**\n",
        "\n",
        "Aluna: **Maura Teresinha Weingartner**\n",
        "\n",
        "Matrícula: **202211260419**\n",
        "\n",
        "Githup: https://github.com/MauraTW"
      ],
      "metadata": {
        "id": "Bfr_rDzwuJMW"
      }
    },
    {
      "cell_type": "markdown",
      "source": [
        "\n",
        "---\n",
        "---\n"
      ],
      "metadata": {
        "id": "pKrs4z8kvR8Y"
      }
    },
    {
      "cell_type": "markdown",
      "source": [
        "# Geração e Transformação de dados + Geração de WordCloud \n",
        "**Missão Prática do Nível 5 - Desenvolvimento Full Stack**\n"
      ],
      "metadata": {
        "id": "ReP0TxyTzgrx"
      }
    },
    {
      "cell_type": "markdown",
      "source": [
        "\n",
        "---\n",
        "---\n"
      ],
      "metadata": {
        "id": "rwgtdoPdzduE"
      }
    },
    {
      "cell_type": "markdown",
      "source": [
        "#Objetivos da missão:\n",
        "\n",
        "1)\tGerar dados de testes \n",
        "\n",
        "2)\tGravar e recuperar dados de arquivos textos\n",
        "\n",
        "3)\tManipular os dados para visualizá-los em um histograma \n",
        "\n",
        "4)\tManipular os dados para visualizá-los em uma nuvem de palavras \n",
        "\n",
        "**Resumo da missão:** Implementar um programa para gerar \n",
        "dados com nomes de pessoas e respectivos scores, gravar em um arquivo, recuperar os dados do arquivo, visualizar os dados das pontuações das pessoas em um histograma e em uma nuvem de palavras.\n"
      ],
      "metadata": {
        "id": "ocp5qxXpdoBb"
      }
    },
    {
      "cell_type": "markdown",
      "source": [
        "--------------\n",
        "#0) Instalar Pacotes\n",
        "--------------"
      ],
      "metadata": {
        "id": "b04ghBSadwtv"
      }
    },
    {
      "cell_type": "code",
      "source": [
        "!pip install faker"
      ],
      "metadata": {
        "id": "2C73qa3aexAU",
        "colab": {
          "base_uri": "https://localhost:8080/"
        },
        "outputId": "c15e410a-9216-4e8d-d152-c4d891754ef3"
      },
      "execution_count": null,
      "outputs": [
        {
          "output_type": "stream",
          "name": "stdout",
          "text": [
            "Looking in indexes: https://pypi.org/simple, https://us-python.pkg.dev/colab-wheels/public/simple/\n",
            "Requirement already satisfied: faker in /usr/local/lib/python3.7/dist-packages (15.3.3)\n",
            "Requirement already satisfied: python-dateutil>=2.4 in /usr/local/lib/python3.7/dist-packages (from faker) (2.8.2)\n",
            "Requirement already satisfied: typing-extensions>=3.10.0.1 in /usr/local/lib/python3.7/dist-packages (from faker) (4.1.1)\n",
            "Requirement already satisfied: six>=1.5 in /usr/local/lib/python3.7/dist-packages (from python-dateutil>=2.4->faker) (1.15.0)\n"
          ]
        }
      ]
    },
    {
      "cell_type": "code",
      "source": [
        "!pip install wordcloud"
      ],
      "metadata": {
        "id": "6yB6nT1-e9lu",
        "colab": {
          "base_uri": "https://localhost:8080/"
        },
        "outputId": "46c2552d-486e-4abd-93b8-5bbf57d6ce44"
      },
      "execution_count": null,
      "outputs": [
        {
          "output_type": "stream",
          "name": "stdout",
          "text": [
            "Looking in indexes: https://pypi.org/simple, https://us-python.pkg.dev/colab-wheels/public/simple/\n",
            "Requirement already satisfied: wordcloud in /usr/local/lib/python3.7/dist-packages (1.8.2.2)\n",
            "Requirement already satisfied: numpy>=1.6.1 in /usr/local/lib/python3.7/dist-packages (from wordcloud) (1.21.6)\n",
            "Requirement already satisfied: pillow in /usr/local/lib/python3.7/dist-packages (from wordcloud) (7.1.2)\n",
            "Requirement already satisfied: matplotlib in /usr/local/lib/python3.7/dist-packages (from wordcloud) (3.2.2)\n",
            "Requirement already satisfied: kiwisolver>=1.0.1 in /usr/local/lib/python3.7/dist-packages (from matplotlib->wordcloud) (1.4.4)\n",
            "Requirement already satisfied: cycler>=0.10 in /usr/local/lib/python3.7/dist-packages (from matplotlib->wordcloud) (0.11.0)\n",
            "Requirement already satisfied: python-dateutil>=2.1 in /usr/local/lib/python3.7/dist-packages (from matplotlib->wordcloud) (2.8.2)\n",
            "Requirement already satisfied: pyparsing!=2.0.4,!=2.1.2,!=2.1.6,>=2.0.1 in /usr/local/lib/python3.7/dist-packages (from matplotlib->wordcloud) (3.0.9)\n",
            "Requirement already satisfied: typing-extensions in /usr/local/lib/python3.7/dist-packages (from kiwisolver>=1.0.1->matplotlib->wordcloud) (4.1.1)\n",
            "Requirement already satisfied: six>=1.5 in /usr/local/lib/python3.7/dist-packages (from python-dateutil>=2.1->matplotlib->wordcloud) (1.15.0)\n"
          ]
        }
      ]
    },
    {
      "cell_type": "markdown",
      "source": [
        "--------------\n",
        "#1) Gerar dados de teste\n",
        "--------------"
      ],
      "metadata": {
        "id": "OmPiWJnTerR5"
      }
    },
    {
      "cell_type": "code",
      "execution_count": null,
      "metadata": {
        "id": "uD4Wjy1Qdi5C"
      },
      "outputs": [],
      "source": [
        "from faker import Faker\n",
        "F = Faker()"
      ]
    },
    {
      "cell_type": "code",
      "source": [
        "from datetime import datetime\n",
        "\n",
        "Nomes = Faker('pt_BR')\n",
        "for i in range(48):\n",
        "    print(Nomes.name())"
      ],
      "metadata": {
        "id": "opfi9PkY19kn",
        "colab": {
          "base_uri": "https://localhost:8080/"
        },
        "outputId": "df8d42bf-c829-492d-db51-be04ed744b58"
      },
      "execution_count": null,
      "outputs": [
        {
          "output_type": "stream",
          "name": "stdout",
          "text": [
            "Vitor Hugo Jesus\n",
            "Heitor da Conceição\n",
            "Luiz Gustavo Vieira\n",
            "Maria Luiza Souza\n",
            "Luiz Gustavo Gonçalves\n",
            "Gustavo Henrique da Luz\n",
            "Paulo da Mota\n",
            "Thomas Freitas\n",
            "Sra. Maysa Gonçalves\n",
            "Marcelo Araújo\n",
            "Pedro Miguel Sales\n",
            "Renan Ribeiro\n",
            "Diogo Cardoso\n",
            "Luiz Fernando Gonçalves\n",
            "Diego Cardoso\n",
            "Ana Clara Costela\n",
            "Henrique Oliveira\n",
            "Maria Clara Silva\n",
            "Maria Alice Ramos\n",
            "Ana Júlia da Cruz\n",
            "Valentina Peixoto\n",
            "Nina Aragão\n",
            "Maria Eduarda Monteiro\n",
            "Esther Farias\n",
            "Nina Alves\n",
            "Maria Clara Nogueira\n",
            "João Felipe da Mota\n",
            "Cecília da Mota\n",
            "Ana Clara Rodrigues\n",
            "Isabella Pereira\n",
            "Bruna Martins\n",
            "João Miguel Novaes\n",
            "Pedro Henrique Moreira\n",
            "Dra. Maria Clara Mendes\n",
            "Isadora Moura\n",
            "Bryan Cavalcanti\n",
            "Ana Laura Farias\n",
            "Igor da Conceição\n",
            "Dra. Ana Luiza da Conceição\n",
            "Lara da Conceição\n",
            "Kaique Pires\n",
            "Maria Julia Sales\n",
            "Joana Viana\n",
            "Carolina Barbosa\n",
            "Sr. Marcelo Ramos\n",
            "João Lucas Rodrigues\n",
            "Gustavo Melo\n",
            "João Pedro Freitas\n"
          ]
        }
      ]
    },
    {
      "cell_type": "code",
      "source": [
        "from faker import Faker\n",
        "fake = Faker('pt_BR')\n",
        "\n",
        "for i in range(48):\n",
        "  Scores=fake.random_int(1,10)\n",
        "  print(Scores)"
      ],
      "metadata": {
        "id": "5EW6nZhSiCc8",
        "colab": {
          "base_uri": "https://localhost:8080/"
        },
        "outputId": "b417a304-e2f2-40a4-a7f4-00a3c94aaac3"
      },
      "execution_count": null,
      "outputs": [
        {
          "output_type": "stream",
          "name": "stdout",
          "text": [
            "2\n",
            "4\n",
            "4\n",
            "9\n",
            "6\n",
            "9\n",
            "9\n",
            "3\n",
            "6\n",
            "8\n",
            "8\n",
            "3\n",
            "9\n",
            "1\n",
            "7\n",
            "5\n",
            "4\n",
            "7\n",
            "5\n",
            "7\n",
            "7\n",
            "10\n",
            "6\n",
            "1\n",
            "2\n",
            "10\n",
            "10\n",
            "2\n",
            "10\n",
            "1\n",
            "10\n",
            "4\n",
            "9\n",
            "3\n",
            "3\n",
            "6\n",
            "1\n",
            "10\n",
            "6\n",
            "9\n",
            "1\n",
            "8\n",
            "8\n",
            "4\n",
            "5\n",
            "7\n",
            "2\n",
            "3\n"
          ]
        }
      ]
    },
    {
      "cell_type": "markdown",
      "source": [
        "--------------\n",
        "#2)\tGravar e recuperar dados de arquivos textos\n",
        "--------------"
      ],
      "metadata": {
        "id": "VnWrYMj-nXtf"
      }
    },
    {
      "cell_type": "markdown",
      "metadata": {
        "id": "aoXWgvEWVurj"
      },
      "source": [
        "# Arquivos\n",
        "\n",
        "O Python usa objetos de arquivo para interagir com arquivos externos em seu computador. Esses objetos de arquivo podem ser qualquer tipo de arquivo que você tenha em seu computador, seja um arquivo de áudio, um arquivo de texto, e-mails, documentos do Excel, etc.\n",
        "\n",
        "O Python possui uma função aberta aberta que nos permite abrir e utilizar métodos básicos com arquivos. Primeiro, precisamos de um arquivo. Usaremos uma mágica do iPython para criar um arquivo de texto!\n",
        "\n",
        "##  Escrevendo um arquivo com iPython"
      ]
    },
    {
      "cell_type": "code",
      "source": [
        "%%writefile Nomes.txt\n",
        "Vitor Hugo Jesus\n",
        "Heitor da Conceição\n",
        "Luiz Gustavo Vieira\n",
        "Maria Luiza Souza\n",
        "Luiz Gustavo Gonçalves\n",
        "Gustavo Henrique da Luz\n",
        "Paulo da Mota\n",
        "Thomas Freitas\n",
        "Sra. Maysa Gonçalves\n",
        "Marcelo Araújo\n",
        "Pedro Miguel Sales\n",
        "Renan Ribeiro\n",
        "Diogo Cardoso\n",
        "Luiz Fernando Gonçalves\n",
        "Diego Cardoso\n",
        "Ana Clara Costela\n",
        "Henrique Oliveira\n",
        "Maria Clara Silva\n",
        "Maria Alice Ramos\n",
        "Ana Júlia da Cruz\n",
        "Valentina Peixoto\n",
        "Nina Aragão\n",
        "Maria Eduarda Monteiro\n",
        "Esther Farias\n",
        "Nina Alves\n",
        "Maria Clara Nogueira\n",
        "João Felipe da Mota\n",
        "Cecília da Mota\n",
        "Ana Clara Rodrigues\n",
        "Isabella Pereira\n",
        "Bruna Martins\n",
        "João Miguel Novaes\n",
        "Pedro Henrique Moreira\n",
        "Dra. Maria Clara Mendes\n",
        "Isadora Moura\n",
        "Bryan Cavalcanti\n",
        "Ana Laura Farias\n",
        "Igor da Conceição\n",
        "Dra. Ana Luiza da Conceição\n",
        "Lara da Conceição\n",
        "Kaique Pires\n",
        "Maria Julia Sales\n",
        "Joana Viana\n",
        "Carolina Barbosa\n",
        "Sr. Marcelo Ramos\n",
        "João Lucas Rodrigues\n",
        "Gustavo Melo\n",
        "João Pedro Freitas"
      ],
      "metadata": {
        "colab": {
          "base_uri": "https://localhost:8080/"
        },
        "id": "PmrPzGqL_lIo",
        "outputId": "8477aa9c-4ad3-4736-e2fb-1081bcfa3be4"
      },
      "execution_count": null,
      "outputs": [
        {
          "output_type": "stream",
          "name": "stdout",
          "text": [
            "Overwriting Nomes.txt\n"
          ]
        }
      ]
    },
    {
      "cell_type": "code",
      "source": [
        "%%writefile Scores.txt\n",
        "2\n",
        "4\n",
        "4\n",
        "9\n",
        "6\n",
        "9\n",
        "9\n",
        "3\n",
        "6\n",
        "8\n",
        "8\n",
        "3\n",
        "9\n",
        "1\n",
        "7\n",
        "5\n",
        "4\n",
        "7\n",
        "5\n",
        "7\n",
        "7\n",
        "10\n",
        "6\n",
        "1\n",
        "2\n",
        "10\n",
        "10\n",
        "2\n",
        "10\n",
        "1\n",
        "10\n",
        "4\n",
        "9\n",
        "3\n",
        "3\n",
        "6\n",
        "1\n",
        "10\n",
        "6\n",
        "9\n",
        "1\n",
        "8\n",
        "8\n",
        "4\n",
        "5\n",
        "7\n",
        "2\n",
        "3"
      ],
      "metadata": {
        "id": "XRpbJTzzoFdv",
        "colab": {
          "base_uri": "https://localhost:8080/"
        },
        "outputId": "a8662754-ecc9-44a7-8b15-a8df223b604b"
      },
      "execution_count": null,
      "outputs": [
        {
          "output_type": "stream",
          "name": "stdout",
          "text": [
            "Overwriting Scores.txt\n"
          ]
        }
      ]
    },
    {
      "cell_type": "markdown",
      "metadata": {
        "id": "7FrA5upTVurr"
      },
      "source": [
        "##  Abrir, ler e mostrar conteúdo de um arquivo .txt com Python"
      ]
    },
    {
      "cell_type": "code",
      "execution_count": null,
      "metadata": {
        "collapsed": true,
        "id": "R3pA2cwSVurs"
      },
      "outputs": [],
      "source": [
        "# Abrir o arquivo salvo:\n",
        "# Abertura realizada com a função open(). \n",
        "arq_Scores = open('Scores.txt')"
      ]
    },
    {
      "cell_type": "code",
      "execution_count": null,
      "metadata": {
        "id": "jnZc7YrkVurs"
      },
      "outputs": [],
      "source": [
        "# Ler (read) o arquivo salvo e transformá-lo em uma lista:\n",
        "# O splitlines() é um método que divide uma string em uma lista. A divisão é feita nas quebras de linha.\n",
        "list_Scores=arq_Scores.read().splitlines()"
      ]
    },
    {
      "cell_type": "code",
      "source": [
        "#Mostrar o conteúdo do arquivo salvo, em forma de lista:\n",
        "print(list_Scores)"
      ],
      "metadata": {
        "id": "S425waMY-rWJ",
        "colab": {
          "base_uri": "https://localhost:8080/"
        },
        "outputId": "bcfbfd77-309b-4ce1-b366-927e12c4c058"
      },
      "execution_count": null,
      "outputs": [
        {
          "output_type": "stream",
          "name": "stdout",
          "text": [
            "['2', '4', '4', '9', '6', '9', '9', '3', '6', '8', '8', '3', '9', '1', '7', '5', '4', '7', '5', '7', '7', '10', '6', '1', '2', '10', '10', '2', '10', '1', '10', '4', '9', '3', '3', '6', '1', '10', '6', '9', '1', '8', '8', '4', '5', '7', '2', '3']\n"
          ]
        }
      ]
    },
    {
      "cell_type": "code",
      "execution_count": null,
      "metadata": {
        "id": "kFbaA5R8Vurt",
        "colab": {
          "base_uri": "https://localhost:8080/",
          "height": 53
        },
        "outputId": "a9a82318-cad8-4eb3-80da-3fa1d3b44206"
      },
      "outputs": [
        {
          "output_type": "execute_result",
          "data": {
            "text/plain": [
              "'2\\n4\\n4\\n9\\n6\\n9\\n9\\n3\\n6\\n8\\n8\\n3\\n9\\n1\\n7\\n5\\n4\\n7\\n5\\n7\\n7\\n10\\n6\\n1\\n2\\n10\\n10\\n2\\n10\\n1\\n10\\n4\\n9\\n3\\n3\\n6\\n1\\n10\\n6\\n9\\n1\\n8\\n8\\n4\\n5\\n7\\n2\\n3\\n'"
            ],
            "application/vnd.google.colaboratory.intrinsic+json": {
              "type": "string"
            }
          },
          "metadata": {},
          "execution_count": 67
        }
      ],
      "source": [
        "# Para lermos o arquivo novamente, será necessário reposicionar o cursor. Quando terminou a leitura anteriormente executada, \n",
        "# o cursor permaneceu no final da linha. Assim se rodar novamente sem o reposicionamento o retorno será uma lista vazia.\n",
        "# Para reposicionar utilizaremos o comando seek() indicando o index do primeiro item:\n",
        "arq_Scores.seek(0)\n",
        "arq_Scores.read()"
      ]
    },
    {
      "cell_type": "code",
      "execution_count": null,
      "metadata": {
        "id": "WlBy7dApVurx",
        "colab": {
          "base_uri": "https://localhost:8080/"
        },
        "outputId": "ebbbdda4-6876-4170-d45e-028d5677b7d2"
      },
      "outputs": [
        {
          "output_type": "execute_result",
          "data": {
            "text/plain": [
              "['2\\n',\n",
              " '4\\n',\n",
              " '4\\n',\n",
              " '9\\n',\n",
              " '6\\n',\n",
              " '9\\n',\n",
              " '9\\n',\n",
              " '3\\n',\n",
              " '6\\n',\n",
              " '8\\n',\n",
              " '8\\n',\n",
              " '3\\n',\n",
              " '9\\n',\n",
              " '1\\n',\n",
              " '7\\n',\n",
              " '5\\n',\n",
              " '4\\n',\n",
              " '7\\n',\n",
              " '5\\n',\n",
              " '7\\n',\n",
              " '7\\n',\n",
              " '10\\n',\n",
              " '6\\n',\n",
              " '1\\n',\n",
              " '2\\n',\n",
              " '10\\n',\n",
              " '10\\n',\n",
              " '2\\n',\n",
              " '10\\n',\n",
              " '1\\n',\n",
              " '10\\n',\n",
              " '4\\n',\n",
              " '9\\n',\n",
              " '3\\n',\n",
              " '3\\n',\n",
              " '6\\n',\n",
              " '1\\n',\n",
              " '10\\n',\n",
              " '6\\n',\n",
              " '9\\n',\n",
              " '1\\n',\n",
              " '8\\n',\n",
              " '8\\n',\n",
              " '4\\n',\n",
              " '5\\n',\n",
              " '7\\n',\n",
              " '2\\n',\n",
              " '3\\n']"
            ]
          },
          "metadata": {},
          "execution_count": 68
        }
      ],
      "source": [
        "# Também é possível usar o método readlines para retornar a lista, porém com ele tudo será mantido na memória. \n",
        "# Assim não é indicado para arquivos grandes. Mas, dispõe de modo de uso que pode limitar o retorno. \n",
        "# Ao informar o número de bytes sua execução se dará até aquele limite. \n",
        "# Readlines retorna uma lista das linhas no arquivo.\n",
        "arq_Scores.seek(0)\n",
        "arq_Scores.readlines()"
      ]
    },
    {
      "cell_type": "code",
      "source": [
        "# Limitando a exibição da lista, usando readlines:\n",
        "S = open(\"Scores.txt\", \"r\")\n",
        "print(S.readlines(40))"
      ],
      "metadata": {
        "colab": {
          "base_uri": "https://localhost:8080/"
        },
        "id": "3LBRQZ-d1HFJ",
        "outputId": "4c837736-c585-485d-ca82-cb68c1578345"
      },
      "execution_count": null,
      "outputs": [
        {
          "output_type": "stream",
          "name": "stdout",
          "text": [
            "['2\\n', '4\\n', '4\\n', '9\\n', '6\\n', '9\\n', '9\\n', '3\\n', '6\\n', '8\\n', '8\\n', '3\\n', '9\\n', '1\\n', '7\\n', '5\\n', '4\\n', '7\\n', '5\\n', '7\\n', '7\\n']\n"
          ]
        }
      ]
    },
    {
      "cell_type": "markdown",
      "metadata": {
        "id": "IDBzMo0EVury"
      },
      "source": [
        "## Demonstração de escrita no arquivo\n",
        "\n",
        "É necessário passar o argumento 'w' para escrever sobre o arquivo. Ou seja, o write permite a inserção de informações em um arquivo txt, já pronto, diretamente via Colab (no caso) se precisar abrir o arquivo. Por exemplo:"
      ]
    },
    {
      "cell_type": "code",
      "execution_count": null,
      "metadata": {
        "collapsed": true,
        "id": "uE4Xri74Vury"
      },
      "outputs": [],
      "source": [
        "# Adiciona um segundo argumento à função, 'w', que significa escrita\n",
        "demo_escrita = open('Nomes.txt','w+')"
      ]
    },
    {
      "cell_type": "code",
      "execution_count": null,
      "metadata": {
        "id": "RhKvmG5_Vurz",
        "colab": {
          "base_uri": "https://localhost:8080/"
        },
        "outputId": "f18f3440-b514-4247-b1a1-76936b2c3b8e"
      },
      "outputs": [
        {
          "output_type": "execute_result",
          "data": {
            "text/plain": [
              "18"
            ]
          },
          "metadata": {},
          "execution_count": 71
        }
      ],
      "source": [
        "# Escreve no arquivo\n",
        "demo_escrita.write('Onerson Segundo\\n')\n",
        "demo_escrita.write('Segundo Francisco\\n')"
      ]
    },
    {
      "cell_type": "code",
      "execution_count": null,
      "metadata": {
        "id": "3WX8LqWzVurz",
        "colab": {
          "base_uri": "https://localhost:8080/"
        },
        "outputId": "5432a607-46ff-4350-ee86-1b12afdc5f6b"
      },
      "outputs": [
        {
          "output_type": "stream",
          "name": "stdout",
          "text": [
            "Segundo Francisco\n",
            "\n"
          ]
        }
      ],
      "source": [
        "# Lê o arquivo\n",
        "demo_escrita.seek(0)\n",
        "teste=demo_escrita.readlines()\n",
        "print(teste[1])"
      ]
    },
    {
      "cell_type": "code",
      "source": [
        "demo_escrita.close()"
      ],
      "metadata": {
        "id": "UPwrpG1GkqR1"
      },
      "execution_count": null,
      "outputs": []
    },
    {
      "cell_type": "markdown",
      "source": [
        "--------------\n",
        "#3)\tManipular os dados para visualizá-los em um histograma\n",
        "--------------"
      ],
      "metadata": {
        "id": "_PJyV-legvZD"
      }
    },
    {
      "cell_type": "code",
      "source": [
        "# Transformar conteúdo string em número inteiro para gerar o Histograma\n",
        "arq_Scores.seek(0)\n",
        "list_Score2 = arq_Scores.readlines()\n",
        "print(list_Score2[8])\n",
        "Scores_hist = [int(val) for val in list_Score2]\n",
        "print(Scores_hist)"
      ],
      "metadata": {
        "id": "RZRgevRbSxDZ",
        "colab": {
          "base_uri": "https://localhost:8080/"
        },
        "outputId": "4240e45e-cb54-46b0-c0d1-c4b5b75f8583"
      },
      "execution_count": null,
      "outputs": [
        {
          "output_type": "stream",
          "name": "stdout",
          "text": [
            "6\n",
            "\n",
            "[2, 4, 4, 9, 6, 9, 9, 3, 6, 8, 8, 3, 9, 1, 7, 5, 4, 7, 5, 7, 7, 10, 6, 1, 2, 10, 10, 2, 10, 1, 10, 4, 9, 3, 3, 6, 1, 10, 6, 9, 1, 8, 8, 4, 5, 7, 2, 3]\n"
          ]
        }
      ]
    },
    {
      "cell_type": "code",
      "source": [
        "import matplotlib.pyplot as plt\n",
        "import numpy as np\n",
        "import matplotlib.pyplot as plt\n",
        "\n",
        "num_bins=20; plt.hist(Scores_hist,num_bins,density=True,facecolor='green', alpha=0.75)\n",
        "\n",
        "\n",
        "\n",
        "plt.xlabel('Scores')\n",
        "plt.ylabel('Probabilidade')\n",
        "plt.title('Histograma dos Scores')\n",
        "plt.xlim(1, 10)\n",
        "plt.grid(True)\n",
        "plt.show()\n"
      ],
      "metadata": {
        "id": "sGm4qwQjlV6v",
        "colab": {
          "base_uri": "https://localhost:8080/",
          "height": 295
        },
        "outputId": "5f07c82b-83f3-40c9-e419-43793b7053af"
      },
      "execution_count": null,
      "outputs": [
        {
          "output_type": "display_data",
          "data": {
            "text/plain": [
              "<Figure size 432x288 with 1 Axes>"
            ],
            "image/png": "[encoded data removed]"
          },
          "metadata": {
            "needs_background": "light"
          }
        }
      ]
    },
    {
      "cell_type": "markdown",
      "source": [
        "--------------\n",
        "#4)\tManipular os dados para visualizá-los em uma nuvem de palavras\n",
        "\n",
        "***Primeiro passo:*** Converter os números inteiros do arquivo em sua respctiva string cardinal.\n",
        "--------------"
      ],
      "metadata": {
        "id": "F0Rd9ed6qknL"
      }
    },
    {
      "cell_type": "code",
      "source": [
        "para_nuvem = open('Scores.txt', 'r')\n",
        "para_nuvem.seek(0)\n",
        "search_text = \"10\"\n",
        "replace_text = \"dez\"\n",
        "with open(r'Scores.txt', 'r') as file:\n",
        "  notas = file.read()\n",
        "  notas = notas.replace(search_text, replace_text)\n",
        "#  notas.seek(0)\n",
        "with open(r'Scores.txt', 'w') as file:\n",
        "  file.write(notas)\n",
        "print(notas)"
      ],
      "metadata": {
        "colab": {
          "base_uri": "https://localhost:8080/"
        },
        "id": "dChA6H_2Lu5f",
        "outputId": "c3b3765b-9aa2-4929-fc42-597d7aa3e65b"
      },
      "execution_count": null,
      "outputs": [
        {
          "output_type": "stream",
          "name": "stdout",
          "text": [
            "2\n",
            "4\n",
            "4\n",
            "9\n",
            "6\n",
            "9\n",
            "9\n",
            "3\n",
            "6\n",
            "8\n",
            "8\n",
            "3\n",
            "9\n",
            "1\n",
            "7\n",
            "5\n",
            "4\n",
            "7\n",
            "5\n",
            "7\n",
            "7\n",
            "dez\n",
            "6\n",
            "1\n",
            "2\n",
            "dez\n",
            "dez\n",
            "2\n",
            "dez\n",
            "1\n",
            "dez\n",
            "4\n",
            "9\n",
            "3\n",
            "3\n",
            "6\n",
            "1\n",
            "dez\n",
            "6\n",
            "9\n",
            "1\n",
            "8\n",
            "8\n",
            "4\n",
            "5\n",
            "7\n",
            "2\n",
            "3\n",
            "\n"
          ]
        }
      ]
    },
    {
      "cell_type": "code",
      "source": [
        "para_nuvem = open('Scores.txt', 'r')\n",
        "para_nuvem.seek(0)\n",
        "search_text = \"9\"\n",
        "replace_text = \"nove\"\n",
        "with open(r'Scores.txt', 'r') as file:\n",
        "  notas = file.read()\n",
        "  notas = notas.replace(search_text, replace_text)\n",
        "#  notas.seek(0)\n",
        "with open(r'Scores.txt', 'w') as file:\n",
        "  file.write(notas)\n",
        "print(notas)"
      ],
      "metadata": {
        "colab": {
          "base_uri": "https://localhost:8080/"
        },
        "id": "CVEp0dbt5xyv",
        "outputId": "121733dc-61b5-4545-8741-d6b4545b18f3"
      },
      "execution_count": null,
      "outputs": [
        {
          "output_type": "stream",
          "name": "stdout",
          "text": [
            "2\n",
            "4\n",
            "4\n",
            "nove\n",
            "6\n",
            "nove\n",
            "nove\n",
            "3\n",
            "6\n",
            "8\n",
            "8\n",
            "3\n",
            "nove\n",
            "1\n",
            "7\n",
            "5\n",
            "4\n",
            "7\n",
            "5\n",
            "7\n",
            "7\n",
            "dez\n",
            "6\n",
            "1\n",
            "2\n",
            "dez\n",
            "dez\n",
            "2\n",
            "dez\n",
            "1\n",
            "dez\n",
            "4\n",
            "nove\n",
            "3\n",
            "3\n",
            "6\n",
            "1\n",
            "dez\n",
            "6\n",
            "nove\n",
            "1\n",
            "8\n",
            "8\n",
            "4\n",
            "5\n",
            "7\n",
            "2\n",
            "3\n",
            "\n"
          ]
        }
      ]
    },
    {
      "cell_type": "code",
      "source": [
        "para_nuvem = open('Scores.txt', 'r')\n",
        "para_nuvem.seek(0)\n",
        "search_text = \"8\"\n",
        "replace_text = \"oito\"\n",
        "with open(r'Scores.txt', 'r') as file:\n",
        "  notas = file.read()\n",
        "  notas = notas.replace(search_text, replace_text)\n",
        "#  notas.seek(0)\n",
        "with open(r'Scores.txt', 'w') as file:\n",
        "  file.write(notas)\n",
        "print(notas)"
      ],
      "metadata": {
        "colab": {
          "base_uri": "https://localhost:8080/"
        },
        "id": "sbViUY0Z59ut",
        "outputId": "80391c0f-620c-4339-9a0d-2c8b6f36c168"
      },
      "execution_count": null,
      "outputs": [
        {
          "output_type": "stream",
          "name": "stdout",
          "text": [
            "2\n",
            "4\n",
            "4\n",
            "nove\n",
            "6\n",
            "nove\n",
            "nove\n",
            "3\n",
            "6\n",
            "oito\n",
            "oito\n",
            "3\n",
            "nove\n",
            "1\n",
            "7\n",
            "5\n",
            "4\n",
            "7\n",
            "5\n",
            "7\n",
            "7\n",
            "dez\n",
            "6\n",
            "1\n",
            "2\n",
            "dez\n",
            "dez\n",
            "2\n",
            "dez\n",
            "1\n",
            "dez\n",
            "4\n",
            "nove\n",
            "3\n",
            "3\n",
            "6\n",
            "1\n",
            "dez\n",
            "6\n",
            "nove\n",
            "1\n",
            "oito\n",
            "oito\n",
            "4\n",
            "5\n",
            "7\n",
            "2\n",
            "3\n",
            "\n"
          ]
        }
      ]
    },
    {
      "cell_type": "code",
      "source": [
        "para_nuvem = open('Scores.txt', 'r')\n",
        "para_nuvem.seek(0)\n",
        "search_text = \"7\"\n",
        "replace_text = \"sete\"\n",
        "with open(r'Scores.txt', 'r') as file:\n",
        "  notas = file.read()\n",
        "  notas = notas.replace(search_text, replace_text)\n",
        "#  notas.seek(0)\n",
        "with open(r'Scores.txt', 'w') as file:\n",
        "  file.write(notas)\n",
        "print(notas)"
      ],
      "metadata": {
        "colab": {
          "base_uri": "https://localhost:8080/"
        },
        "id": "4BQujSl16EkR",
        "outputId": "6676236d-ce69-4008-8521-a46241b52cf7"
      },
      "execution_count": null,
      "outputs": [
        {
          "output_type": "stream",
          "name": "stdout",
          "text": [
            "2\n",
            "4\n",
            "4\n",
            "nove\n",
            "6\n",
            "nove\n",
            "nove\n",
            "3\n",
            "6\n",
            "oito\n",
            "oito\n",
            "3\n",
            "nove\n",
            "1\n",
            "sete\n",
            "5\n",
            "4\n",
            "sete\n",
            "5\n",
            "sete\n",
            "sete\n",
            "dez\n",
            "6\n",
            "1\n",
            "2\n",
            "dez\n",
            "dez\n",
            "2\n",
            "dez\n",
            "1\n",
            "dez\n",
            "4\n",
            "nove\n",
            "3\n",
            "3\n",
            "6\n",
            "1\n",
            "dez\n",
            "6\n",
            "nove\n",
            "1\n",
            "oito\n",
            "oito\n",
            "4\n",
            "5\n",
            "sete\n",
            "2\n",
            "3\n",
            "\n"
          ]
        }
      ]
    },
    {
      "cell_type": "code",
      "source": [
        "para_nuvem = open('Scores.txt', 'r')\n",
        "para_nuvem.seek(0)\n",
        "search_text = \"6\"\n",
        "replace_text = \"seis\"\n",
        "with open(r'Scores.txt', 'r') as file:\n",
        "  notas = file.read()\n",
        "  notas = notas.replace(search_text, replace_text)\n",
        "#  notas.seek(0)\n",
        "with open(r'Scores.txt', 'w') as file:\n",
        "  file.write(notas)\n",
        "print(notas)"
      ],
      "metadata": {
        "colab": {
          "base_uri": "https://localhost:8080/"
        },
        "id": "HkRLJU1C6Kpo",
        "outputId": "4856f372-dcd8-4b6f-bbcf-16af4863856d"
      },
      "execution_count": null,
      "outputs": [
        {
          "output_type": "stream",
          "name": "stdout",
          "text": [
            "2\n",
            "4\n",
            "4\n",
            "nove\n",
            "seis\n",
            "nove\n",
            "nove\n",
            "3\n",
            "seis\n",
            "oito\n",
            "oito\n",
            "3\n",
            "nove\n",
            "1\n",
            "sete\n",
            "5\n",
            "4\n",
            "sete\n",
            "5\n",
            "sete\n",
            "sete\n",
            "dez\n",
            "seis\n",
            "1\n",
            "2\n",
            "dez\n",
            "dez\n",
            "2\n",
            "dez\n",
            "1\n",
            "dez\n",
            "4\n",
            "nove\n",
            "3\n",
            "3\n",
            "seis\n",
            "1\n",
            "dez\n",
            "seis\n",
            "nove\n",
            "1\n",
            "oito\n",
            "oito\n",
            "4\n",
            "5\n",
            "sete\n",
            "2\n",
            "3\n",
            "\n"
          ]
        }
      ]
    },
    {
      "cell_type": "code",
      "source": [
        "para_nuvem = open('Scores.txt', 'r')\n",
        "para_nuvem.seek(0)\n",
        "search_text = \"5\"\n",
        "replace_text = \"cinco\"\n",
        "with open(r'Scores.txt', 'r') as file:\n",
        "  notas = file.read()\n",
        "  notas = notas.replace(search_text, replace_text)\n",
        "#  notas.seek(0)\n",
        "with open(r'Scores.txt', 'w') as file:\n",
        "  file.write(notas)\n",
        "print(notas)"
      ],
      "metadata": {
        "colab": {
          "base_uri": "https://localhost:8080/"
        },
        "id": "kTX_IQ5I6QGb",
        "outputId": "a361d79d-31ae-4a24-99c9-5806f85c075b"
      },
      "execution_count": null,
      "outputs": [
        {
          "output_type": "stream",
          "name": "stdout",
          "text": [
            "2\n",
            "4\n",
            "4\n",
            "nove\n",
            "seis\n",
            "nove\n",
            "nove\n",
            "3\n",
            "seis\n",
            "oito\n",
            "oito\n",
            "3\n",
            "nove\n",
            "1\n",
            "sete\n",
            "cinco\n",
            "4\n",
            "sete\n",
            "cinco\n",
            "sete\n",
            "sete\n",
            "dez\n",
            "seis\n",
            "1\n",
            "2\n",
            "dez\n",
            "dez\n",
            "2\n",
            "dez\n",
            "1\n",
            "dez\n",
            "4\n",
            "nove\n",
            "3\n",
            "3\n",
            "seis\n",
            "1\n",
            "dez\n",
            "seis\n",
            "nove\n",
            "1\n",
            "oito\n",
            "oito\n",
            "4\n",
            "cinco\n",
            "sete\n",
            "2\n",
            "3\n",
            "\n"
          ]
        }
      ]
    },
    {
      "cell_type": "code",
      "source": [
        "para_nuvem = open('Scores.txt', 'r')\n",
        "para_nuvem.seek(0)\n",
        "search_text = \"4\"\n",
        "replace_text = \"quatro\"\n",
        "with open(r'Scores.txt', 'r') as file:\n",
        "  notas = file.read()\n",
        "  notas = notas.replace(search_text, replace_text)\n",
        "#  notas.seek(0)\n",
        "with open(r'Scores.txt', 'w') as file:\n",
        "  file.write(notas)\n",
        "print(notas)"
      ],
      "metadata": {
        "colab": {
          "base_uri": "https://localhost:8080/"
        },
        "id": "81tBJmBm6anb",
        "outputId": "dea5c4cc-bb67-4ed1-fe26-e3d58e299c19"
      },
      "execution_count": null,
      "outputs": [
        {
          "output_type": "stream",
          "name": "stdout",
          "text": [
            "2\n",
            "quatro\n",
            "quatro\n",
            "nove\n",
            "seis\n",
            "nove\n",
            "nove\n",
            "3\n",
            "seis\n",
            "oito\n",
            "oito\n",
            "3\n",
            "nove\n",
            "1\n",
            "sete\n",
            "cinco\n",
            "quatro\n",
            "sete\n",
            "cinco\n",
            "sete\n",
            "sete\n",
            "dez\n",
            "seis\n",
            "1\n",
            "2\n",
            "dez\n",
            "dez\n",
            "2\n",
            "dez\n",
            "1\n",
            "dez\n",
            "quatro\n",
            "nove\n",
            "3\n",
            "3\n",
            "seis\n",
            "1\n",
            "dez\n",
            "seis\n",
            "nove\n",
            "1\n",
            "oito\n",
            "oito\n",
            "quatro\n",
            "cinco\n",
            "sete\n",
            "2\n",
            "3\n",
            "\n"
          ]
        }
      ]
    },
    {
      "cell_type": "code",
      "source": [
        "para_nuvem = open('Scores.txt', 'r')\n",
        "para_nuvem.seek(0)\n",
        "search_text = \"3\"\n",
        "replace_text = \"três\"\n",
        "with open(r'Scores.txt', 'r') as file:\n",
        "  notas = file.read()\n",
        "  notas = notas.replace(search_text, replace_text)\n",
        "#  notas.seek(0)\n",
        "with open(r'Scores.txt', 'w') as file:\n",
        "  file.write(notas)\n",
        "print(notas)"
      ],
      "metadata": {
        "colab": {
          "base_uri": "https://localhost:8080/"
        },
        "id": "oOiogKK76gDc",
        "outputId": "24c16ac9-3d82-418c-9754-a1c65736de3f"
      },
      "execution_count": null,
      "outputs": [
        {
          "output_type": "stream",
          "name": "stdout",
          "text": [
            "2\n",
            "quatro\n",
            "quatro\n",
            "nove\n",
            "seis\n",
            "nove\n",
            "nove\n",
            "três\n",
            "seis\n",
            "oito\n",
            "oito\n",
            "três\n",
            "nove\n",
            "1\n",
            "sete\n",
            "cinco\n",
            "quatro\n",
            "sete\n",
            "cinco\n",
            "sete\n",
            "sete\n",
            "dez\n",
            "seis\n",
            "1\n",
            "2\n",
            "dez\n",
            "dez\n",
            "2\n",
            "dez\n",
            "1\n",
            "dez\n",
            "quatro\n",
            "nove\n",
            "três\n",
            "três\n",
            "seis\n",
            "1\n",
            "dez\n",
            "seis\n",
            "nove\n",
            "1\n",
            "oito\n",
            "oito\n",
            "quatro\n",
            "cinco\n",
            "sete\n",
            "2\n",
            "três\n",
            "\n"
          ]
        }
      ]
    },
    {
      "cell_type": "code",
      "source": [
        "para_nuvem = open('Scores.txt', 'r')\n",
        "para_nuvem.seek(0)\n",
        "search_text = \"2\"\n",
        "replace_text = \"dois\"\n",
        "with open(r'Scores.txt', 'r') as file:\n",
        "  notas = file.read()\n",
        "  notas = notas.replace(search_text, replace_text)\n",
        "#  notas.seek(0)\n",
        "with open(r'Scores.txt', 'w') as file:\n",
        "  file.write(notas)\n",
        "print(notas)"
      ],
      "metadata": {
        "colab": {
          "base_uri": "https://localhost:8080/"
        },
        "id": "G7Dy-l5W6lG6",
        "outputId": "3c1032b8-1d34-4272-906a-b044173a8986"
      },
      "execution_count": null,
      "outputs": [
        {
          "output_type": "stream",
          "name": "stdout",
          "text": [
            "dois\n",
            "quatro\n",
            "quatro\n",
            "nove\n",
            "seis\n",
            "nove\n",
            "nove\n",
            "três\n",
            "seis\n",
            "oito\n",
            "oito\n",
            "três\n",
            "nove\n",
            "1\n",
            "sete\n",
            "cinco\n",
            "quatro\n",
            "sete\n",
            "cinco\n",
            "sete\n",
            "sete\n",
            "dez\n",
            "seis\n",
            "1\n",
            "dois\n",
            "dez\n",
            "dez\n",
            "dois\n",
            "dez\n",
            "1\n",
            "dez\n",
            "quatro\n",
            "nove\n",
            "três\n",
            "três\n",
            "seis\n",
            "1\n",
            "dez\n",
            "seis\n",
            "nove\n",
            "1\n",
            "oito\n",
            "oito\n",
            "quatro\n",
            "cinco\n",
            "sete\n",
            "dois\n",
            "três\n",
            "\n"
          ]
        }
      ]
    },
    {
      "cell_type": "code",
      "source": [
        "para_nuvem = open('Scores.txt', 'r')\n",
        "para_nuvem.seek(0)\n",
        "search_text = \"1\"\n",
        "replace_text = \"um\"\n",
        "with open(r'Scores.txt', 'r') as file:\n",
        "  notas = file.read()\n",
        "  notas = notas.replace(search_text, replace_text)\n",
        "#  notas.seek(0)\n",
        "with open(r'Scores.txt', 'w') as file:\n",
        "  file.write(notas)\n",
        "print(notas)"
      ],
      "metadata": {
        "colab": {
          "base_uri": "https://localhost:8080/"
        },
        "id": "oHgjjXlS69bx",
        "outputId": "937d4556-c81b-4d05-f83b-ea88c8f9dbfc"
      },
      "execution_count": null,
      "outputs": [
        {
          "output_type": "stream",
          "name": "stdout",
          "text": [
            "dois\n",
            "quatro\n",
            "quatro\n",
            "nove\n",
            "seis\n",
            "nove\n",
            "nove\n",
            "três\n",
            "seis\n",
            "oito\n",
            "oito\n",
            "três\n",
            "nove\n",
            "um\n",
            "sete\n",
            "cinco\n",
            "quatro\n",
            "sete\n",
            "cinco\n",
            "sete\n",
            "sete\n",
            "dez\n",
            "seis\n",
            "um\n",
            "dois\n",
            "dez\n",
            "dez\n",
            "dois\n",
            "dez\n",
            "um\n",
            "dez\n",
            "quatro\n",
            "nove\n",
            "três\n",
            "três\n",
            "seis\n",
            "um\n",
            "dez\n",
            "seis\n",
            "nove\n",
            "um\n",
            "oito\n",
            "oito\n",
            "quatro\n",
            "cinco\n",
            "sete\n",
            "dois\n",
            "três\n",
            "\n"
          ]
        }
      ]
    },
    {
      "cell_type": "markdown",
      "source": [
        "***Segundo passo:*** Gerar a ***Nuvem de Palavras*** a apartir dos dados transformados:"
      ],
      "metadata": {
        "id": "eT05Ba1Zky4O"
      }
    },
    {
      "cell_type": "code",
      "source": [
        "from wordcloud import WordCloud\n",
        "nuvem_palavras = WordCloud(background_color='grey',\n",
        "                           width=800,height=400).generate(notas)\n",
        "plt.imshow(nuvem_palavras, interpolation='bilinear')\n",
        "plt.axis(\"off\")\n",
        "nuvem_palavras.to_file(\"Nuvem de palavras.png\")"
      ],
      "metadata": {
        "id": "PvhR9H6-ooZK",
        "colab": {
          "base_uri": "https://localhost:8080/",
          "height": 215
        },
        "outputId": "4b90a67e-c07c-4b21-f06f-f2a6bd377641"
      },
      "execution_count": null,
      "outputs": [
        {
          "output_type": "execute_result",
          "data": {
            "text/plain": [
              "<wordcloud.wordcloud.WordCloud at 0x7f78ee46aa10>"
            ]
          },
          "metadata": {},
          "execution_count": 86
        },
        {
          "output_type": "display_data",
          "data": {
            "text/plain": [
              "<Figure size 432x288 with 1 Axes>"
            ],
            "image/png": "[encoded data removed]"
          },
          "metadata": {
            "needs_background": "light"
          }
        }
      ]
    },
    {
      "cell_type": "markdown",
      "source": [
        "# Conclusão\n",
        "\n",
        "O aprendizado de manipulação de dados em arquivo foi muito interessante, mesmo para alguém totalmente principiante, foi possível realizar algumas interações e/ou alterações. A manipulação de dados abre um grande leque para demonstração dos dados, isto porque permite a pluralidade de formas de exibí-los.\n",
        "\n",
        "Uma destas formas é o histograma que permite a nítida visualização de onde está o maior volume das ocorrências, bem como permite comparar visualmente a distribuição das mesmas.\n",
        "\n",
        "Com a manipulação dos dados também foi possível construir uma nuvem de palavras, para representar a distribuição das ocorrências listadas no arquivo. A nuvem de palavras é uma forma de representação visual. Ela permite visualizar os dados com mais leveza e criatividade."
      ],
      "metadata": {
        "id": "OwM-LawTqg0G"
      }
    },
    {
      "cell_type": "markdown",
      "source": [
        "--------------\n",
        "***Referências***\n",
        "--------------\n",
        "\n",
        "LORBIESKI, Robson: Encontro nível 5. Disponível em https://drive.google.com/drive/folders/1hDVsPvSw3CCyiSc7a2i1GI1LY1Gl1mVv \n",
        "\n",
        "OLIVEIRA, Frederico Tosta: Manipulação de Dados em Arquivos. Disponível em https://estudante.estacio.br/disciplinas/estacio_7214612/temas/4/conteudos/1\n",
        "\n",
        "***Sites Consultados***\n",
        "\n",
        "\n",
        "https://acervolima.com/como-pesquisar-e-substituir-texto-em-um-arquivo-em-python/#:~:text=Para%20substituir%20o%20texto%20em,read()%20e%20replace().&text=Par%C3%A2metros%3A,arquivo%3A%20localiza%C3%A7%C3%A3o%20do%20arquivo \n",
        "\n",
        "https://matplotlib.org/stable/users/faq/index.html\n",
        "\n",
        "https://docs.python.org/3/tutorial/inputoutput.html"
      ],
      "metadata": {
        "id": "yfYuG248qyFq"
      }
    },
    {
      "cell_type": "markdown",
      "source": [
        "--------------\n",
        "--------------\n",
        "\n"
      ],
      "metadata": {
        "id": "wNoXGgOkrH6A"
      }
    },
    {
      "cell_type": "markdown",
      "source": [],
      "metadata": {
        "id": "3Z9feccwssRe"
      }
    },
    {
      "cell_type": "markdown",
      "source": [
        "--------------\n",
        "--------------\n",
        "\n"
      ],
      "metadata": {
        "id": "U7o5OQotrNs_"
      }
    },
    {
      "cell_type": "markdown",
      "source": [
        "--------------\n",
        "--------------\n",
        "\n"
      ],
      "metadata": {
        "id": "cq__4EsXrN6n"
      }
    },
    {
      "cell_type": "markdown",
      "source": [
        "--------------\n",
        "--------------\n",
        "\n"
      ],
      "metadata": {
        "id": "miQ4A-WhrODv"
      }
    }
  ]
}