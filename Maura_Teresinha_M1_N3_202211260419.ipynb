{
  "nbformat": 4,
  "nbformat_minor": 0,
  "metadata": {
    "colab": {
      "provenance": [],
      "authorship_tag": "ABX9TyMVd+kbsfN0exWaM+Vj046I",
      "include_colab_link": true
    },
    "kernelspec": {
      "name": "python3",
      "display_name": "Python 3"
    },
    "language_info": {
      "name": "python"
    }
  },
  "cells": [
    {
      "cell_type": "markdown",
      "metadata": {
        "id": "view-in-github",
        "colab_type": "text"
      },
      "source": [
        "<a href=\"https://colab.research.google.com/github/MauraTW/M1-Desen-Full-Stack/blob/main/Maura_Teresinha_M1_N3_202211260419.ipynb\" target=\"_parent\"><img src=\"https://colab.research.google.com/assets/colab-badge.svg\" alt=\"Open In Colab\"/></a>"
      ]
    },
    {
      "cell_type": "code",
      "execution_count": null,
      "metadata": {
        "id": "wa5ULqiMuLhO"
      },
      "outputs": [],
      "source": [
        "#Identificar a quantidade de subconjuntos possíveis e elencar estes, dado um certo rol de itens:\n",
        "Contagem_regressiva = {10,9,8,7,6}\n",
        "\n",
        "OE = {'Spearmint', 'Lavander', 'Rosemary', 'Geranium'}\n",
        "\n",
        "#Caso deseje testar com os itens de sua preferência, há espaço para input de dados ao final do código!"
      ]
    },
    {
      "cell_type": "code",
      "source": [
        "\n",
        "from more_itertools import powerset\n",
        "list(powerset(Contagem_regressiva))\n"
      ],
      "metadata": {
        "colab": {
          "base_uri": "https://localhost:8080/"
        },
        "id": "_d6fnbK_27BF",
        "outputId": "7e41541e-0af6-4fd9-a97b-a1a6bb320598"
      },
      "execution_count": null,
      "outputs": [
        {
          "output_type": "execute_result",
          "data": {
            "text/plain": [
              "[(),\n",
              " (6,),\n",
              " (7,),\n",
              " (8,),\n",
              " (9,),\n",
              " (10,),\n",
              " (6, 7),\n",
              " (6, 8),\n",
              " (6, 9),\n",
              " (6, 10),\n",
              " (7, 8),\n",
              " (7, 9),\n",
              " (7, 10),\n",
              " (8, 9),\n",
              " (8, 10),\n",
              " (9, 10),\n",
              " (6, 7, 8),\n",
              " (6, 7, 9),\n",
              " (6, 7, 10),\n",
              " (6, 8, 9),\n",
              " (6, 8, 10),\n",
              " (6, 9, 10),\n",
              " (7, 8, 9),\n",
              " (7, 8, 10),\n",
              " (7, 9, 10),\n",
              " (8, 9, 10),\n",
              " (6, 7, 8, 9),\n",
              " (6, 7, 8, 10),\n",
              " (6, 7, 9, 10),\n",
              " (6, 8, 9, 10),\n",
              " (7, 8, 9, 10),\n",
              " (6, 7, 8, 9, 10)]"
            ]
          },
          "metadata": {},
          "execution_count": 3
        }
      ]
    },
    {
      "cell_type": "code",
      "source": [
        "print(len(list(powerset(Contagem_regressiva))))\n",
        "print('são os subconjuntos possíveis para o conjunto Contagem_regressiva')"
      ],
      "metadata": {
        "colab": {
          "base_uri": "https://localhost:8080/"
        },
        "id": "swniQblgA-Rs",
        "outputId": "5ac211d7-6621-4c52-f5b2-f4db3d9d84bb"
      },
      "execution_count": null,
      "outputs": [
        {
          "output_type": "stream",
          "name": "stdout",
          "text": [
            "32\n",
            "são os subconjuntos possíveis para o conjunto Contagem_regressiva\n"
          ]
        }
      ]
    },
    {
      "cell_type": "code",
      "source": [
        "\n",
        "list(powerset(OE))"
      ],
      "metadata": {
        "colab": {
          "base_uri": "https://localhost:8080/"
        },
        "id": "bZCPEKsfAbBO",
        "outputId": "9a7b7c34-3c95-41ea-9a8c-169c9aaeec1e"
      },
      "execution_count": null,
      "outputs": [
        {
          "output_type": "execute_result",
          "data": {
            "text/plain": [
              "[(),\n",
              " ('Lavander',),\n",
              " ('Geranium',),\n",
              " ('Rosemary',),\n",
              " ('Spearmint',),\n",
              " ('Lavander', 'Geranium'),\n",
              " ('Lavander', 'Rosemary'),\n",
              " ('Lavander', 'Spearmint'),\n",
              " ('Geranium', 'Rosemary'),\n",
              " ('Geranium', 'Spearmint'),\n",
              " ('Rosemary', 'Spearmint'),\n",
              " ('Lavander', 'Geranium', 'Rosemary'),\n",
              " ('Lavander', 'Geranium', 'Spearmint'),\n",
              " ('Lavander', 'Rosemary', 'Spearmint'),\n",
              " ('Geranium', 'Rosemary', 'Spearmint'),\n",
              " ('Lavander', 'Geranium', 'Rosemary', 'Spearmint')]"
            ]
          },
          "metadata": {},
          "execution_count": 5
        }
      ]
    },
    {
      "cell_type": "code",
      "source": [
        "print(len(list(powerset(OE))))\n",
        "print('são os subconjuntos possíveis para o conjunto OE')"
      ],
      "metadata": {
        "colab": {
          "base_uri": "https://localhost:8080/"
        },
        "id": "cG8JbYGQBKam",
        "outputId": "74cb96cd-3694-4663-8940-63e18ef74f66"
      },
      "execution_count": null,
      "outputs": [
        {
          "output_type": "stream",
          "name": "stdout",
          "text": [
            "16\n",
            "são os subconjuntos possíveis para o conjunto OE\n"
          ]
        }
      ]
    },
    {
      "cell_type": "code",
      "source": [
        "#caso deseje visualizar os subconjuntos de seu próprio conjunto de itens, rode este código:\n",
        "\n",
        "Dado1 = input('Insira seu primeiro dado: ')\n",
        "Dado2 = input('Insira seu segundo dado: ')\n",
        "Dado3 = input('Insira seu terceiro dado: ')\n",
        "Dado4 = input('Insira seu quarto dado: ')\n",
        "Dado5 = input('Insira seu quinto dado: ')\n",
        "print('\\n')\n",
        "print('seu conjunto desejado é:')\n",
        "print(Dado1, Dado2, Dado3, Dado4, Dado5) \n",
        "print('\\n')\n",
        "Conjunto_desejado = {Dado1,Dado2,Dado3,Dado4,Dado5}\n",
        "print('Dele resultam os seguintes subconjuntos:')\n",
        "print(list(powerset(Conjunto_desejado)))\n",
        "print('\\n')\n",
        "\n",
        "print(len(list(powerset(Conjunto_desejado))))\n",
        "\n",
        "print('são os subconjuntos possíveis para o Conjunto_desejado ')"
      ],
      "metadata": {
        "id": "FAw3ebNdE2Yy",
        "colab": {
          "base_uri": "https://localhost:8080/"
        },
        "outputId": "d565650f-360e-49c3-b4f6-2c5339c87f95"
      },
      "execution_count": null,
      "outputs": [
        {
          "output_type": "stream",
          "name": "stdout",
          "text": [
            "Insira seu primeiro dado: 21\n",
            "Insira seu segundo dado: oi\n",
            "Insira seu terceiro dado: 45\n",
            "Insira seu quarto dado: 74\n",
            "Insira seu quinto dado: ia\n",
            "\n",
            "\n",
            "seu conjunto desejado é:\n",
            "21 oi 45 74 ia\n",
            "\n",
            "\n",
            "Dele resultam os seguintes subconjuntos:\n",
            "[(), ('oi',), ('45',), ('21',), ('ia',), ('74',), ('oi', '45'), ('oi', '21'), ('oi', 'ia'), ('oi', '74'), ('45', '21'), ('45', 'ia'), ('45', '74'), ('21', 'ia'), ('21', '74'), ('ia', '74'), ('oi', '45', '21'), ('oi', '45', 'ia'), ('oi', '45', '74'), ('oi', '21', 'ia'), ('oi', '21', '74'), ('oi', 'ia', '74'), ('45', '21', 'ia'), ('45', '21', '74'), ('45', 'ia', '74'), ('21', 'ia', '74'), ('oi', '45', '21', 'ia'), ('oi', '45', '21', '74'), ('oi', '45', 'ia', '74'), ('oi', '21', 'ia', '74'), ('45', '21', 'ia', '74'), ('oi', '45', '21', 'ia', '74')]\n",
            "\n",
            "\n",
            "32\n",
            "são os subconjuntos possíveis para o Conjunto_desejado \n"
          ]
        }
      ]
    }
  ]
}